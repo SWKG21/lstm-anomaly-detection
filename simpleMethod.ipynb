{
 "cells": [
  {
   "cell_type": "markdown",
   "metadata": {},
   "source": [
    "# This module is for the simple method"
   ]
  },
  {
   "cell_type": "code",
   "execution_count": 1,
   "metadata": {},
   "outputs": [
    {
     "name": "stderr",
     "output_type": "stream",
     "text": [
      "/home/sven/.local/lib/python3.5/site-packages/h5py/__init__.py:36: FutureWarning: Conversion of the second argument of issubdtype from `float` to `np.floating` is deprecated. In future, it will be treated as `np.float64 == np.dtype(float).type`.\n",
      "  from ._conv import register_converters as _register_converters\n",
      "Using TensorFlow backend.\n"
     ]
    }
   ],
   "source": [
    "import numpy as np\n",
    "import pandas as pd\n",
    "import matplotlib.pyplot as plt\n",
    "from keras.models import load_model  \n",
    "from sklearn.metrics import precision_recall_curve, precision_recall_fscore_support, confusion_matrix\n",
    "from utils import *\n",
    "%matplotlib inline"
   ]
  },
  {
   "cell_type": "code",
   "execution_count": 2,
   "metadata": {
    "collapsed": true
   },
   "outputs": [],
   "source": [
    "# load LSTM model\n",
    "lookback = 10\n",
    "hidden_neurons = 300\n",
    "model = load_model('../LSTM_{}_{}.model'.format(lookback, hidden_neurons))\n",
    "\n",
    "# load second normal validation dataset and abnormal validation dataset\n",
    "val2 = pd.read_csv('../val2_treated.csv', index_col=0)\n",
    "vala = pd.read_csv('../vala_treated.csv', index_col=0)"
   ]
  },
  {
   "cell_type": "markdown",
   "metadata": {},
   "source": [
    "# Grid search\n",
    "In this section, we search for the optimal size of the window."
   ]
  },
  {
   "cell_type": "code",
   "execution_count": 3,
   "metadata": {
    "collapsed": true
   },
   "outputs": [],
   "source": [
    "# grid search\n",
    "memory_widths = [1, 3, 5, 8, 10]\n",
    "\n",
    "err_avg_n = [[] for i in range(len(memory_widths))]\n",
    "val2_brokens = getBrokens(val2.index)\n",
    "for i in range(len(val2_brokens)-1):\n",
    "    val2X, val2Y = createSequnces(val2.iloc[val2_brokens[i]:val2_brokens[i+1], :], lookback)\n",
    "    predY = model.predict(np.array(val2X))\n",
    "    errors = pointError(val2Y, predY)\n",
    "    for j, memory_width in enumerate(memory_widths):\n",
    "        err_avg_n[j] += windowAverage(errors, memory_width)\n",
    "\n",
    "err_avg_a = [[] for i in range(len(memory_widths))]\n",
    "vala_brokens = getBrokens(vala.index)\n",
    "for i in range(len(vala_brokens)-1):\n",
    "    valaX, valaY = createSequnces(vala.iloc[vala_brokens[i]:vala_brokens[i+1], :], lookback)\n",
    "    if len(valaY) == 0:\n",
    "        continue\n",
    "    predY = model.predict(np.array(valaX))\n",
    "    errors = pointError(valaY, predY)\n",
    "    for j, memory_width in enumerate(memory_widths):\n",
    "        err_avg_a[j] += windowAverage(errors, memory_width)"
   ]
  },
  {
   "cell_type": "code",
   "execution_count": 4,
   "metadata": {
    "collapsed": true
   },
   "outputs": [],
   "source": [
    "# calculate precision, recall, f1-score and threshold for each memory width\n",
    "bm = []\n",
    "for i, memory_width in enumerate(memory_widths):\n",
    "    value_label = np.array([[err, 0] for err in err_avg_n[i]] + [[err, 1] for err in err_avg_a[i]])\n",
    "    p, r, f1, ts = getOptimalFscore(value_label[:,1], value_label[:, 0], beta=1)\n",
    "    bm.append( [memory_width, p, r, f1, ts])\n",
    "\n",
    "bm = pd.DataFrame(bm, columns=['memory_width', 'precision', 'recall', 'f-score', 'threshold'])"
   ]
  },
  {
   "cell_type": "code",
   "execution_count": 5,
   "metadata": {},
   "outputs": [
    {
     "data": {
      "text/html": [
       "<div>\n",
       "<style scoped>\n",
       "    .dataframe tbody tr th:only-of-type {\n",
       "        vertical-align: middle;\n",
       "    }\n",
       "\n",
       "    .dataframe tbody tr th {\n",
       "        vertical-align: top;\n",
       "    }\n",
       "\n",
       "    .dataframe thead th {\n",
       "        text-align: right;\n",
       "    }\n",
       "</style>\n",
       "<table border=\"1\" class=\"dataframe\">\n",
       "  <thead>\n",
       "    <tr style=\"text-align: right;\">\n",
       "      <th></th>\n",
       "      <th>memory_width</th>\n",
       "      <th>precision</th>\n",
       "      <th>recall</th>\n",
       "      <th>f-score</th>\n",
       "      <th>threshold</th>\n",
       "    </tr>\n",
       "  </thead>\n",
       "  <tbody>\n",
       "    <tr>\n",
       "      <th>0</th>\n",
       "      <td>1</td>\n",
       "      <td>0.857143</td>\n",
       "      <td>0.786885</td>\n",
       "      <td>0.820513</td>\n",
       "      <td>0.012206</td>\n",
       "    </tr>\n",
       "    <tr>\n",
       "      <th>1</th>\n",
       "      <td>3</td>\n",
       "      <td>0.920000</td>\n",
       "      <td>0.807018</td>\n",
       "      <td>0.859813</td>\n",
       "      <td>0.013270</td>\n",
       "    </tr>\n",
       "    <tr>\n",
       "      <th>2</th>\n",
       "      <td>5</td>\n",
       "      <td>0.959184</td>\n",
       "      <td>0.886792</td>\n",
       "      <td>0.921569</td>\n",
       "      <td>0.011493</td>\n",
       "    </tr>\n",
       "    <tr>\n",
       "      <th>3</th>\n",
       "      <td>8</td>\n",
       "      <td>1.000000</td>\n",
       "      <td>0.978723</td>\n",
       "      <td>0.989247</td>\n",
       "      <td>0.011186</td>\n",
       "    </tr>\n",
       "    <tr>\n",
       "      <th>4</th>\n",
       "      <td>10</td>\n",
       "      <td>1.000000</td>\n",
       "      <td>1.000000</td>\n",
       "      <td>1.000000</td>\n",
       "      <td>0.012037</td>\n",
       "    </tr>\n",
       "  </tbody>\n",
       "</table>\n",
       "</div>"
      ],
      "text/plain": [
       "   memory_width  precision    recall   f-score  threshold\n",
       "0             1   0.857143  0.786885  0.820513   0.012206\n",
       "1             3   0.920000  0.807018  0.859813   0.013270\n",
       "2             5   0.959184  0.886792  0.921569   0.011493\n",
       "3             8   1.000000  0.978723  0.989247   0.011186\n",
       "4            10   1.000000  1.000000  1.000000   0.012037"
      ]
     },
     "execution_count": 5,
     "metadata": {},
     "output_type": "execute_result"
    }
   ],
   "source": [
    "# print the benchmark results\n",
    "bm"
   ]
  },
  {
   "cell_type": "code",
   "execution_count": 6,
   "metadata": {},
   "outputs": [
    {
     "data": {
      "image/png": "[encoded data removed]",
      "text/plain": [
       "<matplotlib.figure.Figure at 0x7f0c4ba8aba8>"
      ]
     },
     "metadata": {},
     "output_type": "display_data"
    }
   ],
   "source": [
    "# plot precision-recall curve\n",
    "plt.figure(figsize=(8, 6))\n",
    "for i, memory_width in enumerate(memory_widths):\n",
    "    value_label = np.array([[err, 0] for err in err_avg_n[i]] + [[err, 1] for err in err_avg_a[i]])\n",
    "    p_trace, r_trace, _ = precision_recall_curve(value_label[:, 1], value_label[:, 0])\n",
    "    plt.plot(p_trace, r_trace, label=\"window_size={}\".format(memory_width))\n",
    "plt.xlabel('precision')\n",
    "plt.ylabel('recall')\n",
    "plt.xlim((0,1.02))\n",
    "plt.ylim((0,1.02))\n",
    "plt.legend(loc='best')\n",
    "plt.show()"
   ]
  },
  {
   "cell_type": "markdown",
   "metadata": {},
   "source": [
    "# Testing\n",
    "In this section, we apply the testing dataset to our model."
   ]
  },
  {
   "cell_type": "code",
   "execution_count": 7,
   "metadata": {
    "collapsed": true
   },
   "outputs": [],
   "source": [
    "testn = pd.read_csv('../testn_treated.csv', index_col=0)\n",
    "testa = pd.read_csv('../testa_treated.csv', index_col=0)\n",
    "\n",
    "bm_test = []\n",
    "for i, memory_width in enumerate(memory_widths):\n",
    "\n",
    "    err_avg_test_n = []\n",
    "    testn_broken = getBrokens(testn.index)\n",
    "    for i in range(len(testn_broken)-1):\n",
    "        testnX, testnY = createSequnces(testn.iloc[testn_broken[i]:testn_broken[i+1], :], lookback)\n",
    "        if len(testnY) == 0:\n",
    "            continue\n",
    "        predY_n = model.predict(np.array(testnX))\n",
    "        errors_n = pointError(testnY, predY_n)\n",
    "        err_avg_test_n += windowAverage(errors_n, memory_width)\n",
    "\n",
    "    err_avg_test_a = []\n",
    "    testa_broken = getBrokens(testa.index)\n",
    "    for i in range(len(testa_broken)-1):\n",
    "        testaX, testaY = createSequnces(testa.iloc[testa_broken[i]:testa_broken[i+1], :], lookback)\n",
    "        if len(testaY) == 0:\n",
    "            continue\n",
    "        predY_a = model.predict(np.array(testaX))\n",
    "        errors_a = pointError(testaY, predY_a)\n",
    "        err_avg_test_a += windowAverage(errors_a, memory_width)\n",
    "\n",
    "    ts = bm.iloc[i, 4]\n",
    "    value_label_test = np.array([[err, 0, int(err >= ts)] for err in err_avg_test_n] + \n",
    "                                [[err, 1, int(err >= ts)] for err in err_avg_test_a])\n",
    "    precision, recall, f1, _ = precision_recall_fscore_support(value_label_test[:, 1], \n",
    "                                                           value_label_test[:, 2], \n",
    "                                                           average='binary')\n",
    "#     print(precision, recall, f1)\n",
    "    bm_test.append([memory_width, precision, recall, f1])\n",
    "bm_test = pd.DataFrame(bm_test, columns=['memory_width', 'precision', 'recall', 'f-score'])"
   ]
  },
  {
   "cell_type": "code",
   "execution_count": 8,
   "metadata": {},
   "outputs": [
    {
     "data": {
      "text/html": [
       "<div>\n",
       "<style scoped>\n",
       "    .dataframe tbody tr th:only-of-type {\n",
       "        vertical-align: middle;\n",
       "    }\n",
       "\n",
       "    .dataframe tbody tr th {\n",
       "        vertical-align: top;\n",
       "    }\n",
       "\n",
       "    .dataframe thead th {\n",
       "        text-align: right;\n",
       "    }\n",
       "</style>\n",
       "<table border=\"1\" class=\"dataframe\">\n",
       "  <thead>\n",
       "    <tr style=\"text-align: right;\">\n",
       "      <th></th>\n",
       "      <th>memory_width</th>\n",
       "      <th>precision</th>\n",
       "      <th>recall</th>\n",
       "      <th>f-score</th>\n",
       "    </tr>\n",
       "  </thead>\n",
       "  <tbody>\n",
       "    <tr>\n",
       "      <th>0</th>\n",
       "      <td>1</td>\n",
       "      <td>0.522222</td>\n",
       "      <td>0.770492</td>\n",
       "      <td>0.622517</td>\n",
       "    </tr>\n",
       "    <tr>\n",
       "      <th>1</th>\n",
       "      <td>3</td>\n",
       "      <td>0.505376</td>\n",
       "      <td>0.824561</td>\n",
       "      <td>0.626667</td>\n",
       "    </tr>\n",
       "    <tr>\n",
       "      <th>2</th>\n",
       "      <td>5</td>\n",
       "      <td>0.536585</td>\n",
       "      <td>0.830189</td>\n",
       "      <td>0.651852</td>\n",
       "    </tr>\n",
       "    <tr>\n",
       "      <th>3</th>\n",
       "      <td>8</td>\n",
       "      <td>0.537500</td>\n",
       "      <td>0.914894</td>\n",
       "      <td>0.677165</td>\n",
       "    </tr>\n",
       "    <tr>\n",
       "      <th>4</th>\n",
       "      <td>10</td>\n",
       "      <td>0.709677</td>\n",
       "      <td>1.000000</td>\n",
       "      <td>0.830189</td>\n",
       "    </tr>\n",
       "  </tbody>\n",
       "</table>\n",
       "</div>"
      ],
      "text/plain": [
       "   memory_width  precision    recall   f-score\n",
       "0             1   0.522222  0.770492  0.622517\n",
       "1             3   0.505376  0.824561  0.626667\n",
       "2             5   0.536585  0.830189  0.651852\n",
       "3             8   0.537500  0.914894  0.677165\n",
       "4            10   0.709677  1.000000  0.830189"
      ]
     },
     "execution_count": 8,
     "metadata": {},
     "output_type": "execute_result"
    }
   ],
   "source": [
    "bm_test"
   ]
  }
 ],
 "metadata": {
  "anaconda-cloud": {},
  "kernelspec": {
   "display_name": "Python [default]",
   "language": "python",
   "name": "python3"
  },
  "language_info": {
   "codemirror_mode": {
    "name": "ipython",
    "version": 3
   },
   "file_extension": ".py",
   "mimetype": "text/x-python",
   "name": "python",
   "nbconvert_exporter": "python",
   "pygments_lexer": "ipython3",
   "version": "3.5.4"
  }
 },
 "nbformat": 4,
 "nbformat_minor": 2
}
