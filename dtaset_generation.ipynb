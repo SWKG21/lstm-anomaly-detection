{
 "cells": [
  {
   "cell_type": "code",
   "execution_count": 1,
   "metadata": {},
   "outputs": [],
   "source": [
    "import numpy as np\n",
    "import pandas as pd"
   ]
  },
  {
   "cell_type": "code",
   "execution_count": 2,
   "metadata": {},
   "outputs": [],
   "source": [
    "def createSequnces(dataset, lookback=10):\n",
    "    data = dataset.values\n",
    "    dataX, dataY = [], []\n",
    "    for i in range(len(data)-lookback):\n",
    "        x = data[i:(i+lookback)]\n",
    "        dataX.append(x)\n",
    "        y = data[i+lookback]\n",
    "        dataY.append(y)\n",
    "    return dataX, dataY\n",
    "\n",
    "def getBrokens(indice):\n",
    "    broken_points = [0]\n",
    "    for i, ts in enumerate(indice):\n",
    "        if ts+1 not in indice:\n",
    "            broken_points.append(i+1)\n",
    "    broken_points.append(len(indice))\n",
    "    return broken_points\n",
    "\n",
    "def createDataset(dataset, lookback):\n",
    "    X, Y = [], []\n",
    "    broken_points = getBrokens(dataset.index)\n",
    "    for i in range(len(broken_points)-1):\n",
    "        x, y = createSequnces(dataset.iloc[broken_points[i]:broken_points[i+1], :], lookback)\n",
    "        X += x\n",
    "        Y += y\n",
    "    return np.array(X), np.array(Y)"
   ]
  },
  {
   "cell_type": "code",
   "execution_count": 3,
   "metadata": {},
   "outputs": [],
   "source": [
    "train = pd.read_csv('../train_treated.csv', index_col=0)\n",
    "val = pd.read_csv('../val1_treated.csv', index_col=0)"
   ]
  },
  {
   "cell_type": "code",
   "execution_count": 4,
   "metadata": {},
   "outputs": [],
   "source": [
    "lookback = 10\n",
    "trainX, trainY = createDataset(train, lookback)\n",
    "valX, valY = createDataset(val, lookback)"
   ]
  },
  {
   "cell_type": "code",
   "execution_count": 5,
   "metadata": {},
   "outputs": [
    {
     "name": "stderr",
     "output_type": "stream",
     "text": [
      "/home/sven/.local/lib/python3.5/site-packages/h5py/__init__.py:36: FutureWarning: Conversion of the second argument of issubdtype from `float` to `np.floating` is deprecated. In future, it will be treated as `np.float64 == np.dtype(float).type`.\n",
      "  from ._conv import register_converters as _register_converters\n",
      "Using TensorFlow backend.\n"
     ]
    },
    {
     "name": "stdout",
     "output_type": "stream",
     "text": [
      "_________________________________________________________________\n",
      "Layer (type)                 Output Shape              Param #   \n",
      "=================================================================\n",
      "lstm_1 (LSTM)                (None, 300)               376800    \n",
      "_________________________________________________________________\n",
      "dense_1 (Dense)              (None, 13)                3913      \n",
      "=================================================================\n",
      "Total params: 380,713\n",
      "Trainable params: 380,713\n",
      "Non-trainable params: 0\n",
      "_________________________________________________________________\n"
     ]
    }
   ],
   "source": [
    "from keras.models import Sequential  \n",
    "from keras.layers.core import Dense  \n",
    "from keras.layers.recurrent import LSTM\n",
    "from keras.callbacks import EarlyStopping\n",
    "  \n",
    "hidden_neurons = 30\n",
    "\n",
    "model = Sequential()  \n",
    "model.add(LSTM(hidden_neurons, input_shape=(trainX.shape[1], trainX.shape[2]), return_sequences=False))  \n",
    "model.add(Dense(trainY.shape[1], activation='linear'))  \n",
    "model.compile(loss=\"mean_squared_error\", optimizer=\"rmsprop\") \n",
    "\n",
    "model.summary()"
   ]
  },
  {
   "cell_type": "code",
   "execution_count": 6,
   "metadata": {
    "scrolled": true
   },
   "outputs": [
    {
     "name": "stdout",
     "output_type": "stream",
     "text": [
      "Train on 44750 samples, validate on 11117 samples\n",
      "Epoch 1/100\n",
      "44750/44750 [==============================] - 14s 303us/step - loss: 0.0188 - val_loss: 0.0155\n",
      "Epoch 2/100\n",
      "44750/44750 [==============================] - 11s 251us/step - loss: 0.0053 - val_loss: 0.0100\n",
      "Epoch 3/100\n",
      "44750/44750 [==============================] - 11s 254us/step - loss: 0.0035 - val_loss: 0.0078\n",
      "Epoch 4/100\n",
      "44750/44750 [==============================] - 11s 237us/step - loss: 0.0025 - val_loss: 0.0060\n",
      "Epoch 5/100\n",
      "44750/44750 [==============================] - 11s 242us/step - loss: 0.0021 - val_loss: 0.0058\n",
      "Epoch 6/100\n",
      "44750/44750 [==============================] - 11s 239us/step - loss: 0.0018 - val_loss: 0.0043\n",
      "Epoch 7/100\n",
      "44750/44750 [==============================] - 11s 240us/step - loss: 0.0016 - val_loss: 0.0043\n",
      "Epoch 8/100\n",
      "44750/44750 [==============================] - 11s 252us/step - loss: 0.0014 - val_loss: 0.0042\n",
      "Epoch 9/100\n",
      "44750/44750 [==============================] - 11s 240us/step - loss: 0.0012 - val_loss: 0.0041\n",
      "Epoch 10/100\n",
      "44750/44750 [==============================] - 11s 242us/step - loss: 0.0011 - val_loss: 0.0040\n",
      "Epoch 11/100\n",
      "44750/44750 [==============================] - 11s 242us/step - loss: 0.0010 - val_loss: 0.0037\n",
      "Epoch 12/100\n",
      "44750/44750 [==============================] - 11s 252us/step - loss: 9.5238e-04 - val_loss: 0.0029\n",
      "Epoch 13/100\n",
      "44750/44750 [==============================] - 11s 255us/step - loss: 8.6850e-04 - val_loss: 0.0034\n",
      "Epoch 14/100\n",
      "44750/44750 [==============================] - 11s 243us/step - loss: 8.2251e-04 - val_loss: 0.0032 - ET - ETA\n",
      "Epoch 15/100\n",
      "44750/44750 [==============================] - 13s 287us/step - loss: 7.5977e-04 - val_loss: 0.0026\n",
      "Epoch 16/100\n",
      "44750/44750 [==============================] - 12s 262us/step - loss: 7.2922e-04 - val_loss: 0.0023\n",
      "Epoch 17/100\n",
      "44750/44750 [==============================] - 11s 244us/step - loss: 6.6745e-04 - val_loss: 0.0024\n",
      "Epoch 18/100\n",
      "44750/44750 [==============================] - 11s 252us/step - loss: 6.4929e-04 - val_loss: 0.0022\n",
      "Epoch 19/100\n",
      "44750/44750 [==============================] - 11s 251us/step - loss: 6.0787e-04 - val_loss: 0.0025\n",
      "Epoch 20/100\n",
      "44750/44750 [==============================] - 11s 244us/step - loss: 5.7863e-04 - val_loss: 0.0021\n",
      "Epoch 21/100\n",
      "44750/44750 [==============================] - 11s 247us/step - loss: 5.4982e-04 - val_loss: 0.0023\n",
      "Epoch 22/100\n",
      "44750/44750 [==============================] - 11s 254us/step - loss: 5.2871e-04 - val_loss: 0.0021\n",
      "Epoch 23/100\n",
      "44750/44750 [==============================] - 11s 244us/step - loss: 5.0832e-04 - val_loss: 0.0019\n",
      "Epoch 24/100\n",
      "44750/44750 [==============================] - 11s 244us/step - loss: 4.8122e-04 - val_loss: 0.0020\n",
      "Epoch 25/100\n",
      "44750/44750 [==============================] - 11s 245us/step - loss: 4.6248e-04 - val_loss: 0.0021\n",
      "Epoch 26/100\n",
      "44750/44750 [==============================] - 11s 244us/step - loss: 4.5227e-04 - val_loss: 0.0021\n"
     ]
    }
   ],
   "source": [
    "earlyStopping = EarlyStopping(monitor='val_loss', patience=3, mode='min')\n",
    "history = model.fit(trainX,\n",
    "          trainY,\n",
    "          batch_size=450,\n",
    "          epochs=100,\n",
    "          verbose=1,\n",
    "          validation_data=(valX, valY),\n",
    "          callbacks=[earlyStopping])  "
   ]
  },
  {
   "cell_type": "code",
   "execution_count": 11,
   "metadata": {},
   "outputs": [],
   "source": [
    "import matplotlib.pyplot as plt\n",
    "%matplotlib inline"
   ]
  },
  {
   "cell_type": "code",
   "execution_count": 13,
   "metadata": {},
   "outputs": [
    {
     "data": {
      "image/png": "[encoded data removed]",
      "text/plain": [
       "<matplotlib.figure.Figure at 0x7fca67bc3828>"
      ]
     },
     "metadata": {},
     "output_type": "display_data"
    }
   ],
   "source": [
    "plt.figure()\n",
    "plt.plot(history.history['loss'], color='b', label='train')\n",
    "plt.plot(history.history['val_loss'], color='r', label='val')\n",
    "plt.legend(loc='best')\n",
    "plt.show()"
   ]
  },
  {
   "cell_type": "code",
   "execution_count": null,
   "metadata": {},
   "outputs": [],
   "source": []
  }
 ],
 "metadata": {
  "kernelspec": {
   "display_name": "Python 3",
   "language": "python",
   "name": "python3"
  },
  "language_info": {
   "codemirror_mode": {
    "name": "ipython",
    "version": 3
   },
   "file_extension": ".py",
   "mimetype": "text/x-python",
   "name": "python",
   "nbconvert_exporter": "python",
   "pygments_lexer": "ipython3",
   "version": "3.5.2"
  }
 },
 "nbformat": 4,
 "nbformat_minor": 2
}
