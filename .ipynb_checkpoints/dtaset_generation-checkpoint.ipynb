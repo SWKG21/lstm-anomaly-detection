{
 "cells": [
  {
   "cell_type": "code",
   "execution_count": 1,
   "metadata": {},
   "outputs": [],
   "source": [
    "import numpy as np\n",
    "import pandas as pd"
   ]
  },
  {
   "cell_type": "code",
   "execution_count": 48,
   "metadata": {},
   "outputs": [],
   "source": [
    "def createSequnces(dataset, lookback=10):\n",
    "    data = dataset.values\n",
    "    dataX, dataY = [], []\n",
    "    for i in range(len(data)-lookback):\n",
    "        x = data[i:(i+lookback)]\n",
    "        dataX.append(x)\n",
    "        y = data[i+lookback]\n",
    "        dataY.append(y)\n",
    "    return dataX, dataY\n",
    "\n",
    "def getBrokens(indice):\n",
    "    broken_points = [0]\n",
    "    for i, ts in enumerate(indice):\n",
    "        if ts+1 not in indice:\n",
    "            broken_points.append(i+1)\n",
    "    broken_points.append(len(indice))\n",
    "    return broken_points\n",
    "\n",
    "def createDataset(dataset, lookback):\n",
    "    X, Y = [], []\n",
    "    broken_points = getBrokens(dataset.index)\n",
    "    for i in range(len(broken_points)-1):\n",
    "        x, y = createSequnces(dataset.iloc[broken_points[i]:broken_points[i+1], :], lookback)\n",
    "        X += x\n",
    "        Y += y\n",
    "    return np.array(X), np.array(Y)"
   ]
  },
  {
   "cell_type": "code",
   "execution_count": null,
   "metadata": {},
   "outputs": [],
   "source": [
    "train = pd.read_csv('../train_treated.csv', index_col=0)\n",
    "val = pd.read_csv('../val1_treated.csv', index_col=0)"
   ]
  },
  {
   "cell_type": "code",
   "execution_count": 40,
   "metadata": {},
   "outputs": [
    {
     "name": "stdout",
     "output_type": "stream",
     "text": [
      "_________________________________________________________________\n",
      "Layer (type)                 Output Shape              Param #   \n",
      "=================================================================\n",
      "lstm_4 (LSTM)                (None, 200)               171200    \n",
      "_________________________________________________________________\n",
      "dense_3 (Dense)              (None, 13)                2613      \n",
      "=================================================================\n",
      "Total params: 173,813\n",
      "Trainable params: 173,813\n",
      "Non-trainable params: 0\n",
      "_________________________________________________________________\n"
     ]
    }
   ],
   "source": [
    "from keras.models import Sequential  \n",
    "from keras.layers.core import Dense, Activation  \n",
    "from keras.layers.recurrent import LSTM\n",
    "  \n",
    "hidden_neurons = 300\n",
    "\n",
    "model = Sequential()  \n",
    "model.add(LSTM(hidden_neurons, input_shape=(trainX.shape[1], trainX.shape[2]), return_sequences=False))  \n",
    "model.add(Dense(trainY.shape[1], activation='linear'))  \n",
    "model.compile(loss=\"mean_squared_error\", optimizer=\"rmsprop\") \n",
    "\n",
    "model.summary()"
   ]
  },
  {
   "cell_type": "code",
   "execution_count": 41,
   "metadata": {},
   "outputs": [
    {
     "name": "stdout",
     "output_type": "stream",
     "text": [
      "Epoch 1/10\n",
      " - 7s - loss: 0.0166\n",
      "Epoch 2/10\n",
      " - 6s - loss: 0.0045\n",
      "Epoch 3/10\n",
      " - 6s - loss: 0.0031\n",
      "Epoch 4/10\n",
      " - 6s - loss: 0.0025\n",
      "Epoch 5/10\n",
      " - 6s - loss: 0.0020\n",
      "Epoch 6/10\n",
      " - 7s - loss: 0.0017\n",
      "Epoch 7/10\n",
      " - 7s - loss: 0.0015\n",
      "Epoch 8/10\n",
      " - 6s - loss: 0.0014\n",
      "Epoch 9/10\n",
      " - 6s - loss: 0.0012\n",
      "Epoch 10/10\n",
      " - 6s - loss: 0.0011\n"
     ]
    },
    {
     "data": {
      "text/plain": [
       "<keras.callbacks.History at 0x7f40a1e79898>"
      ]
     },
     "execution_count": 41,
     "metadata": {},
     "output_type": "execute_result"
    }
   ],
   "source": [
    "model.fit(trainX, trainY, batch_size=450, epochs=100, verbose=1)  "
   ]
  },
  {
   "cell_type": "code",
   "execution_count": 46,
   "metadata": {},
   "outputs": [
    {
     "data": {
      "text/plain": [
       "array([[0.12859064, 0.6509335 , 0.32557982, 0.79927963, 0.24106467,\n",
       "        0.394303  , 0.5575777 , 0.6229409 , 0.39876434, 0.4998699 ,\n",
       "        0.70260906, 0.66075915, 0.5872076 ]], dtype=float32)"
      ]
     },
     "execution_count": 46,
     "metadata": {},
     "output_type": "execute_result"
    }
   ],
   "source": [
    "model.predict(trainX[[500],:])"
   ]
  },
  {
   "cell_type": "code",
   "execution_count": 47,
   "metadata": {},
   "outputs": [
    {
     "data": {
      "text/plain": [
       "array([0.09989147, 0.61288892, 0.306647  , 0.7588347 , 0.20698521,\n",
       "       0.38676989, 0.55250868, 0.6362931 , 0.341072  , 0.48000187,\n",
       "       0.66355319, 0.62891874, 0.56155482])"
      ]
     },
     "execution_count": 47,
     "metadata": {},
     "output_type": "execute_result"
    }
   ],
   "source": [
    "trainY[500]"
   ]
  },
  {
   "cell_type": "code",
   "execution_count": null,
   "metadata": {},
   "outputs": [],
   "source": []
  }
 ],
 "metadata": {
  "kernelspec": {
   "display_name": "Python 3",
   "language": "python",
   "name": "python3"
  },
  "language_info": {
   "codemirror_mode": {
    "name": "ipython",
    "version": 3
   },
   "file_extension": ".py",
   "mimetype": "text/x-python",
   "name": "python",
   "nbconvert_exporter": "python",
   "pygments_lexer": "ipython3",
   "version": "3.5.2"
  }
 },
 "nbformat": 4,
 "nbformat_minor": 2
}
